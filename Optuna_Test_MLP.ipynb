{
  "nbformat": 4,
  "nbformat_minor": 0,
  "metadata": {
    "colab": {
      "name": "Optuna_Test_MLP",
      "provenance": [],
      "authorship_tag": "ABX9TyNWWIAkWQcR9aPQnmfSGJlX",
      "include_colab_link": true
    },
    "kernelspec": {
      "name": "python3",
      "display_name": "Python 3"
    },
    "language_info": {
      "name": "python"
    }
  },
  "cells": [
    {
      "cell_type": "markdown",
      "metadata": {
        "id": "view-in-github",
        "colab_type": "text"
      },
      "source": [
        "<a href=\"https://colab.research.google.com/github/MikJak75/ResearchCopies/blob/main/Optuna_Test_MLP.ipynb\" target=\"_parent\"><img src=\"https://colab.research.google.com/assets/colab-badge.svg\" alt=\"Open In Colab\"/></a>"
      ]
    },
    {
      "cell_type": "code",
      "source": [
        "from google.colab import drive\n",
        "drive.mount('/content/gdrive')"
      ],
      "metadata": {
        "colab": {
          "base_uri": "https://localhost:8080/"
        },
        "id": "ocxsYTR-xfBd",
        "outputId": "fa6ed051-fc6c-47cd-90b1-164b50682c53"
      },
      "execution_count": 5,
      "outputs": [
        {
          "output_type": "stream",
          "name": "stdout",
          "text": [
            "Mounted at /content/gdrive\n"
          ]
        }
      ]
    },
    {
      "cell_type": "code",
      "source": [
        "!pip install optuna"
      ],
      "metadata": {
        "id": "I3FuzM6a2a03"
      },
      "execution_count": null,
      "outputs": []
    },
    {
      "cell_type": "code",
      "execution_count": 9,
      "metadata": {
        "colab": {
          "base_uri": "https://localhost:8080/"
        },
        "id": "RmNBVO6X4BtF",
        "outputId": "ec8be038-f5fe-4495-aa56-84ea9f15b196"
      },
      "outputs": [
        {
          "output_type": "stream",
          "name": "stdout",
          "text": [
            "1.1300959229469298\n",
            "1.1159348607063293\n",
            "1.0921506047248841\n",
            "1.053738276163737\n",
            "1.0381718357404073\n",
            "1.0226243495941163\n",
            "1.0053758025169373\n",
            "0.9857300241788228\n",
            "0.9610854625701905\n",
            "0.9362804611523946\n",
            "0.9097865343093872\n",
            "0.8812533497810364\n",
            "0.8508090893427531\n",
            "0.8196462194124857\n",
            "0.7867325266202291\n",
            "0.7542577703793844\n",
            "0.7207870483398438\n",
            "0.687840336561203\n",
            "0.6554604470729828\n",
            "0.6244674841562907\n",
            "0.5946188330650329\n",
            "0.5668145875136058\n",
            "0.5412843227386475\n",
            "0.5169651120901108\n",
            "0.49462268551190697\n",
            "0.47504950165748594\n",
            "0.45603868663311004\n",
            "0.4386746108531952\n",
            "0.422582146525383\n",
            "0.40732245445251464\n",
            "0.39276847392320635\n",
            "0.3787274579207102\n",
            "0.3662848879893621\n",
            "0.3541781564553579\n",
            "0.3425443693995476\n",
            "0.33167690684398016\n",
            "0.3211634616057078\n",
            "0.3110420490304629\n",
            "0.30156406164169314\n",
            "0.2933325963715712\n",
            "0.28464037279287974\n",
            "0.27660661389430363\n",
            "0.2691590704023838\n",
            "0.26193368832270303\n",
            "0.2549363896250725\n",
            "0.24819615855813026\n",
            "0.24225847696264585\n",
            "0.23593792865673702\n",
            "0.23024339079856873\n",
            "0.22469557548562685\n",
            "tensor([[9.6879e-01, 3.1159e-02, 4.7133e-05]], grad_fn=<ExpBackward0>) tensor([[0]])\n"
          ]
        }
      ],
      "source": [
        "import os\n",
        "\n",
        "import optuna\n",
        "from optuna.trial import TrialState\n",
        "\n",
        "import torch\n",
        "import numpy as np\n",
        "\n",
        "from torch import optim, nn\n",
        "import torch.nn.functional as F\n",
        "from torch.utils.data import DataLoader\n",
        "from torch.utils.data.dataset import Dataset\n",
        "\n",
        "\n",
        "\n",
        "class IrisDataset(Dataset):\n",
        "    def __init__(self, path, delimiter=','):\n",
        "        self.__data = np.genfromtxt(path, delimiter=delimiter).astype(np.float32)\n",
        "\n",
        "    def __getitem__(self, index):\n",
        "        instance = self.__data[index,:]\n",
        "        data = torch.from_numpy(instance[:-1])\n",
        "        label = torch.from_numpy(np.array(instance[-1]).astype(int))\n",
        "\n",
        "        return data, label\n",
        "\n",
        "    def __len__(self):\n",
        "        return self.__data.shape[0]\n",
        "\n",
        "class Classifier(nn.Module):\n",
        "    def __init__(self):\n",
        "        super().__init__()\n",
        "\n",
        "        self.fc1 = nn.Linear(4, 10)\n",
        "        self.fc2 = nn.Linear(10, 10)\n",
        "        self.fc3 = nn.Linear(10, 3)\n",
        "\n",
        "    def forward(self, x):\n",
        "        x = F.relu(self.fc1(x))\n",
        "        x = F.relu(self.fc2(x))\n",
        "        return F.log_softmax(self.fc3(x), dim=1)\n",
        "    \n",
        "\n",
        "dataloader = DataLoader(dataset=IrisDataset('/content/gdrive/My Drive/iris.data'),\n",
        "                        batch_size=10,\n",
        "                        shuffle=True)\n",
        "\n",
        "epochs = 50\n",
        "model = Classifier()\n",
        "criterion = nn.NLLLoss()\n",
        "optimizer = optim.SGD(model.parameters(), lr=0.01)\n",
        "\n",
        "for epoch in range(epochs):\n",
        "    running_loss = 0\n",
        "    for instances, labels in dataloader:\n",
        "        optimizer.zero_grad()\n",
        "        \n",
        "        output = model(instances)\n",
        "        loss = criterion(output, labels)\n",
        "        loss.backward()\n",
        "        optimizer.step()\n",
        "        \n",
        "        running_loss += loss.item()\n",
        "    print(running_loss / len(dataloader))\n",
        "\n",
        "instances, labels = next(iter(dataloader))\n",
        "instance = instances[0].view(1, 4)\n",
        "label = labels[0].view(1, 1)\n",
        "print(torch.exp(model(instance)), label)\n"
      ]
    },
    {
      "cell_type": "code",
      "source": [
        "pwd"
      ],
      "metadata": {
        "colab": {
          "base_uri": "https://localhost:8080/",
          "height": 36
        },
        "id": "KzuhxKdBwDmC",
        "outputId": "a97dd196-f6e0-43d8-f496-f52bc6e8506b"
      },
      "execution_count": 3,
      "outputs": [
        {
          "output_type": "execute_result",
          "data": {
            "text/plain": [
              "'/content'"
            ],
            "application/vnd.google.colaboratory.intrinsic+json": {
              "type": "string"
            }
          },
          "metadata": {},
          "execution_count": 3
        }
      ]
    },
    {
      "cell_type": "code",
      "source": [
        "0.27896711230278015"
      ],
      "metadata": {
        "id": "VxDRIb2DwFox"
      },
      "execution_count": null,
      "outputs": []
    }
  ]
}